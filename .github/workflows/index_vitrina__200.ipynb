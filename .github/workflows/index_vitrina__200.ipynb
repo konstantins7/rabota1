name: Scheduled Scripts for vitrina24.kz

on:
  schedule:
    - cron: '5 8,20 * * *'  # Запуск в 8:05 и 20:05 по UTC

jobs:
  run-vitrina24-script:
    runs-on: ubuntu-latest
    steps:
      - name: Checkout repository
        uses: actions/checkout@v2

      - name: Set up Python
        uses: actions/setup-python@v2
        with:
          python-version: '3.x'

      - name: Install dependencies
        run: |
          python -m pip install --upgrade pip
          pip install nbconvert
          pip install google-auth requests pandas google-api-python-client beautifulsoup4 lxml

      - name: Execute vitrina24.kz script
        run: |
          jupyter nbconvert --to notebook --execute index_vitrina__200.ipynb --output result_vitrina24.ipynb
